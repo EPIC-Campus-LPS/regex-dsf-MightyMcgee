{
 "cells": [
  {
   "cell_type": "markdown",
   "metadata": {},
   "source": [
    "# Adding User Accounts"
   ]
  },
  {
   "cell_type": "code",
   "execution_count": 1,
   "metadata": {},
   "outputs": [
    {
     "name": "stdout",
     "output_type": "stream",
     "text": [
      "['findlay_butler@hr.yahoo.com', 'cain_mosley@finance.yahoo.com', 'donna_beltran@accounting.yahoo.com', 'sian_ramirez@sales.yahoo.com', 'angelo_fulton@it.yahoo.com', 'daniyal_castro@ops.yahoo.com', 'cayden_morrison@purchasing.yahoo.com', 'amir_haney@randd.yahoo.com', 'olive_fowler@production.yahoo.com', 'ernest_bauer@marketing.yahoo.com', 'isla_burnett@leadership.yahoo.com', 'albert_velazquez@sales.yahoo.com', 'filip_donovan@it.yahoo.com', 'hamza_crawford@ops.yahoo.com', 'astrid_obrien@purchasing.yahoo.com', 'milan_odling@randd.yahoo.com', 'ruairi_stevenson@production.yahoo.com', 'ria_bonner@marketing.yahoo.com', 'ela_hicks@leadership.yahoo.com', 'aron_bean@finance.yahoo.com', 'woody_gardner@accounting.yahoo.com', 'clyde_stokes@sales.yahoo.com', 'samantha_harrison@it.yahoo.com', 'gina_mason@finance.yahoo.com', 'hollie_vance@accounting.yahoo.com', 'tillie_villa@sales.yahoo.com', 'jacqueline_dean@it.yahoo.com', 'xavier_vaughn@finance.yahoo.com', 'elif_pace@accounting.yahoo.com', 'thalia_duran@sales.yahoo.com', 'lacey_fields@it.yahoo.com', 'abi_hamilton@accounting.yahoo.com', 'carys_ward@sales.yahoo.com', 'philippa_velez@accounting.yahoo.com', 'annie_chen@sales.yahoo.com', 'rhonda_sears@accounting.yahoo.com', 'casey_bullock@sales.yahoo.com', 'lily-may_morgan@accounting.yahoo.com', 'jak_garner@sales.yahoo.com', 'abbas_hines@accounting.yahoo.com', 'amira_gill@sales.yahoo.com', 'jaime_watkins@accounting.yahoo.com', 'noor_mccall@sales.yahoo.com', 'jasper_norris@ops.yahoo.com', 'olivier_roach@ops.yahoo.com', 'dhruv_callahan@ops.yahoo.com', 'anjali_meyer@hr.yahoo.com', 'mae_noble@hr.yahoo.com', 'brogan_fitzpatrick@hr.yahoo.com', 'haris_clayton@hr.yahoo.com', 'haris_clayton@hr.yahoo.com', 'haris_clayton@hr.yahoo.com', 'haris_clayton@hr.yahoo.com']\n",
      "['Fbutler1-hr', 'Cmosley1-finance', 'Dbeltran1-accounting', 'Sramirez1-sales', 'Afulton1-it', 'Dcastro1-ops', 'Cmorrison1-purchasing', 'Ahaney1-randd', 'Ofowler1-production', 'Ebauer1-marketing', 'Iburnett1-leadership', 'Avelazquez1-sales', 'Fdonovan1-it', 'Hcrawford1-ops', 'Aobrien1-purchasing', 'Modling1-randd', 'Rstevenson1-production', 'Rbonner1-marketing', 'Ehicks1-leadership', 'Abean1-finance', 'Wgardner1-accounting', 'Cstokes1-sales', 'Sharrison1-it', 'Gmason1-finance', 'Hvance1-accounting', 'Tvilla1-sales', 'Jdean1-it', 'Xvaughn1-finance', 'Epace1-accounting', 'Tduran1-sales', 'Lfields1-it', 'Ahamilton1-accounting', 'Cward1-sales', 'Pvelez1-accounting', 'Achen1-sales', 'Rsears1-accounting', 'Cbullock1-sales', 'Lmorgan1-accounting', 'Jgarner1-sales', 'Ahines1-accounting', 'Agill1-sales', 'Jwatkins1-accounting', 'Nmccall1-sales', 'Jnorris1-ops', 'Oroach1-ops', 'Dcallahan1-ops', 'Ameyer1-hr', 'Mnoble1-hr', 'Bfitzpatrick1-hr', 'Hclayton1-hr', 'Hclayton2-hr', 'Hclayton3-hr', 'Hclayton4-hr']\n",
      "['Fbutler44730247', 'Cmosley63644930', 'Dbeltran41670339', 'Sramirez10659500', 'Afulton14883947', 'Dcastro49396588', 'Cmorrison31452243', 'Ahaney20263615', 'Ofowler60907753', 'Ebauer96803839', 'Iburnett12101597', 'Avelazquez88522394', 'Fdonovan77566354', 'Hcrawford91946467', 'Aobrien25896371', 'Modling42632324', 'Rstevenson28397662', 'Rbonner39690153', 'Ehicks86257135', 'Abean43954183', 'Wgardner47234213', 'Cstokes37260081', 'Sharrison05238472', 'Gmason19250858', 'Hvance71283757', 'Tvilla10182950', 'Jdean05911163', 'Xvaughn73954816', 'Epace26803215', 'Tduran36945326', 'Lfields54239456', 'Ahamilton39039133', 'Cward54528307', 'Pvelez49220667', 'Achen26244757', 'Rsears19416954', 'Cbullock35947482', 'Lmorgan23216592', 'Jgarner46435506', 'Ahines56327729', 'Agill03375815', 'Jwatkins73074321', 'Nmccall44939647', 'Jnorris56707159', 'Oroach94565527', 'Dcallahan61177855', 'Ameyer49852169', 'Mnoble53590749', 'Bfitzpatrick28242048', 'Hclayton50860519', 'Hclayton10223543', 'Hclayton29780850', 'Hclayton50985090']\n"
     ]
    }
   ],
   "source": [
    "import re\n",
    "import random\n",
    "emails=[]\n",
    "usernames=[]\n",
    "passwords=[]\n",
    "with open(\"emails.txt\") as file:\n",
    "    for line in file:\n",
    "        emails.append(line.strip(\"\\n\")) #adds every email to the emails list\n",
    "x=str(1)\n",
    "for item in emails:\n",
    "    a = re.search(r\"^(.+)_(.+)@(.+).yahoo.com$\",item, re.IGNORECASE) #splits each part of the email into \n",
    "    if a:\n",
    "        fn, ln, dept = a.groups() #the first name in the email, the last name, and the department\n",
    "        if fn[0].upper()+ln+x+\"-\"+dept in usernames: #every username has a number to avoid duplicates, this checks if that the username it is about\n",
    "            x=int(x) #to make is already in use if so it will just make the number one larger until one is found that isn't being used\n",
    "            x+=1 \n",
    "            x=str(x)\n",
    "        user = fn[0].upper()+ln+x+\"-\"+dept\n",
    "        usernames.append(user)\n",
    "        #this just takes the first letter of the email then adds 8 random numbers after it to make a password\n",
    "        pw = fn[0].upper()+ln+str(random.randint(0,9))+str(random.randint(0,9))+str(random.randint(0,9))+str(random.randint(0,9))+str(random.randint(0,9))+str(random.randint(0,9))+str(random.randint(0,9))+str(random.randint(0,9))\n",
    "        passwords.append(pw)\n",
    "print(emails)\n",
    "print(usernames)\n",
    "print(passwords)\n",
    "with open(\"accounts.csv\",\"w\") as out: #adds all of the emails, usernames, and passwords to a file\n",
    "    for i in range(len(emails)):\n",
    "        out.write(f\"{emails[i]},\")\n",
    "        out.write(f\"{usernames[i]},\")\n",
    "        out.write(f\"{passwords[i]},\")\n",
    "        out.write(\"\\n\")"
   ]
  },
  {
   "cell_type": "markdown",
   "metadata": {},
   "source": [
    "# A Little SQL"
   ]
  },
  {
   "cell_type": "code",
   "execution_count": 1,
   "metadata": {},
   "outputs": [
    {
     "name": "stdout",
     "output_type": "stream",
     "text": [
      "SQL Injection Detected! User tried to input \n",
      "[\"select * FROM Customers WHERE Country = 'Germany' OR Country = 'Spain';\", \"select count(salary) as count from empsalary where ispermanent='yes' and salary>5000;\", \"select * from employee where emaildid like '%@gmail.com';\", \"select * from employee where department='E-102' or department='E-104';\", \"select sum(salary) as salary from empsalary where ispermanent='yes';\", \"select deptname from empdept where deptid ='E-102';\", 'select count(empid) as employee, projectid from empproject group by projectid;', 'select count(projectid) as project from empproject where startyear=endyear;', 'select count(projectid) as project from empproject where startyear=2010;']\n"
     ]
    }
   ],
   "source": [
    "import re\n",
    "commands=[]\n",
    "all = \"\"\n",
    "with open(\"regex_input1.txt\") as file1, open(\"regex_input2.txt\") as file2:\n",
    "    for line in file1:\n",
    "        all+=line.strip()+\" \" #adds every line from file1 into a big string\n",
    "    match = re.findall(r\"(select [^;]*;)\",str(all)) #checks for sequel statements\n",
    "    if match: #add each sequel statement to the commands list and take it out of the string\n",
    "        commands.append(match)\n",
    "        all = re.sub(r\"(select [^;]*;)\",\"[COMMAND DETECTED]\",all,len(commands))\n",
    "if commands == []:#if theres no commands print success\n",
    "    print(\"Success!\")\n",
    "else:#if there are any commands print the commands\n",
    "    print(\"SQL Injection Detected! User tried to input \")\n",
    "    for i in commands:\n",
    "        print(i)"
   ]
  }
 ],
 "metadata": {
  "kernelspec": {
   "display_name": "Python 3",
   "language": "python",
   "name": "python3"
  },
  "language_info": {
   "codemirror_mode": {
    "name": "ipython",
    "version": 3
   },
   "file_extension": ".py",
   "mimetype": "text/x-python",
   "name": "python",
   "nbconvert_exporter": "python",
   "pygments_lexer": "ipython3",
   "version": "3.10.13"
  }
 },
 "nbformat": 4,
 "nbformat_minor": 2
}
